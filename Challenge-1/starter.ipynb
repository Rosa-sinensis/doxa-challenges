{
 "cells": [
  {
   "cell_type": "markdown",
   "metadata": {},
   "source": [
    "## Challenge"
   ]
  },
  {
   "cell_type": "markdown",
   "metadata": {},
   "source": [
    "As the first challenge of the series, we are proud to present you with a brain stroke prediction challenge. You will be introduced to different concepts in Machine Learning and its implementation. Since this is the first challenge, this notebook serves as an example that will guide you through the generic processes involved when doing an end-to-end Machine Learning project, ranging from data preprocessing, and model training, to submitting your prediction to Doxa. "
   ]
  },
  {
   "cell_type": "markdown",
   "metadata": {},
   "source": [
    "![title](https://www.cdc.gov/stroke/images/Stroke-Medical-Illustration.jpg?_=77303?noicon)"
   ]
  },
  {
   "cell_type": "markdown",
   "metadata": {},
   "source": [
    "**Background**: A stroke, sometimes called a brain attack, occurs when something blocks the blood supply to part of the brain or when a blood vessel in the brain bursts. Brain cells begin to die in minutes. A stroke is a medical emergency, and prompt treatment is crucial. A stroke can cause lasting brain damage, long-term disability, or even death. Early action can reduce brain damage and other complications.\n",
    "\n",
    "**Objective**: Our objective is to be able to predict whether a person has a stroke or not given some information about them.\n",
    "\n",
    "**Dataset**: The dataset is attained from [Stroke Prediction Dataset](https://www.kaggle.com/datasets/zzettrkalpakbal/full-filled-brain-stroke-dataset)"
   ]
  },
  {
   "cell_type": "markdown",
   "metadata": {},
   "source": [
    "## Machine Learning Workflow"
   ]
  },
  {
   "cell_type": "markdown",
   "metadata": {},
   "source": [
    "![title](https://miro.medium.com/max/1400/0*V0GyOt3LoDVfY7y5.png)"
   ]
  },
  {
   "cell_type": "markdown",
   "metadata": {},
   "source": [
    "As you already know, the process involved in Machine Learning covers a wide area. As you step through the notebook, always keep in mind which stage are we dealing with at that moment. And as we reached the end of the notebook, you will realize that Step 06 (Parameter Tuning) on the figure above is missing. Be creative, and try to implement it on your own. There are a lot of resources you can find online that will help you implement this step, which will hopefully improve your score on the leaderboard!"
   ]
  },
  {
   "cell_type": "markdown",
   "metadata": {},
   "source": [
    "## Preparation"
   ]
  },
  {
   "cell_type": "code",
   "execution_count": 42,
   "metadata": {},
   "outputs": [],
   "source": [
    "# Import relevant libraries\n",
    "import numpy as np\n",
    "import pandas as pd\n",
    "import seaborn as sns\n",
    "import matplotlib.pyplot as plt\n",
    "\n",
    "# Import relevant sklearn class/function related to data preprocessing\n",
    "from sklearn.model_selection import train_test_split\n",
    "from sklearn.decomposition import PCA\n",
    "from sklearn.preprocessing import MinMaxScaler, StandardScaler, OrdinalEncoder\n",
    "\n",
    "# Import relevant sklearn class related to Machine Learning model\n",
    "from sklearn.linear_model import LinearRegression, LogisticRegression, Lasso\n",
    "from sklearn.svm import SVC, SVR, NuSVC\n",
    "from sklearn.tree import DecisionTreeClassifier, DecisionTreeRegressor\n",
    "from sklearn.ensemble import RandomForestClassifier, GradientBoostingClassifier, BaggingClassifier\n",
    "\n",
    "# Import relevant sklearn class/function related to evaluation\n",
    "from sklearn.metrics import accuracy_score, f1_score, ConfusionMatrixDisplay         \n",
    "\n",
    "%matplotlib inline"
   ]
  },
  {
   "cell_type": "code",
   "execution_count": 43,
   "metadata": {},
   "outputs": [],
   "source": [
    "# Import training dataset and save it in a variable called data_original\n",
    "data_original = pd.read_csv(\"./data/train.csv\")     # Change the PATH accordingly \n",
    "\n",
    "# We then make a copy of data_original. This is the variable that we will do some manipulation with it. If we want to refer to our original dataset, we can always refer to data_original variable\n",
    "data = data_original.copy()              "
   ]
  },
  {
   "cell_type": "markdown",
   "metadata": {},
   "source": [
    "## Data Understanding & Visualisation"
   ]
  },
  {
   "cell_type": "markdown",
   "metadata": {},
   "source": [
    "Before we start to train our Machine Learning model, it is important to have a look and understand first the dataset that we will be using. This will provide some insights onto which model, model hyperparameter, and loss function are suitable for the problem we are dealing with. "
   ]
  },
  {
   "cell_type": "code",
   "execution_count": 44,
   "metadata": {},
   "outputs": [
    {
     "data": {
      "text/html": [
       "<div>\n",
       "<style scoped>\n",
       "    .dataframe tbody tr th:only-of-type {\n",
       "        vertical-align: middle;\n",
       "    }\n",
       "\n",
       "    .dataframe tbody tr th {\n",
       "        vertical-align: top;\n",
       "    }\n",
       "\n",
       "    .dataframe thead th {\n",
       "        text-align: right;\n",
       "    }\n",
       "</style>\n",
       "<table border=\"1\" class=\"dataframe\">\n",
       "  <thead>\n",
       "    <tr style=\"text-align: right;\">\n",
       "      <th></th>\n",
       "      <th>gender</th>\n",
       "      <th>age</th>\n",
       "      <th>hypertension</th>\n",
       "      <th>heart_disease</th>\n",
       "      <th>ever_married</th>\n",
       "      <th>work_type</th>\n",
       "      <th>Residence_type</th>\n",
       "      <th>avg_glucose_level</th>\n",
       "      <th>bmi</th>\n",
       "      <th>smoking_status</th>\n",
       "      <th>stroke</th>\n",
       "    </tr>\n",
       "  </thead>\n",
       "  <tbody>\n",
       "    <tr>\n",
       "      <th>0</th>\n",
       "      <td>Female</td>\n",
       "      <td>18.0</td>\n",
       "      <td>0</td>\n",
       "      <td>0</td>\n",
       "      <td>No</td>\n",
       "      <td>Private</td>\n",
       "      <td>Urban</td>\n",
       "      <td>101.95</td>\n",
       "      <td>46.0</td>\n",
       "      <td>formerly smoked</td>\n",
       "      <td>0</td>\n",
       "    </tr>\n",
       "    <tr>\n",
       "      <th>1</th>\n",
       "      <td>Male</td>\n",
       "      <td>60.0</td>\n",
       "      <td>0</td>\n",
       "      <td>0</td>\n",
       "      <td>Yes</td>\n",
       "      <td>Private</td>\n",
       "      <td>Urban</td>\n",
       "      <td>129.16</td>\n",
       "      <td>33.6</td>\n",
       "      <td>smokes</td>\n",
       "      <td>0</td>\n",
       "    </tr>\n",
       "    <tr>\n",
       "      <th>2</th>\n",
       "      <td>Female</td>\n",
       "      <td>21.0</td>\n",
       "      <td>0</td>\n",
       "      <td>0</td>\n",
       "      <td>No</td>\n",
       "      <td>Private</td>\n",
       "      <td>Urban</td>\n",
       "      <td>91.01</td>\n",
       "      <td>28.7</td>\n",
       "      <td>never smoked</td>\n",
       "      <td>0</td>\n",
       "    </tr>\n",
       "    <tr>\n",
       "      <th>3</th>\n",
       "      <td>Female</td>\n",
       "      <td>22.0</td>\n",
       "      <td>0</td>\n",
       "      <td>0</td>\n",
       "      <td>No</td>\n",
       "      <td>Private</td>\n",
       "      <td>Urban</td>\n",
       "      <td>69.94</td>\n",
       "      <td>22.8</td>\n",
       "      <td>Unknown</td>\n",
       "      <td>0</td>\n",
       "    </tr>\n",
       "    <tr>\n",
       "      <th>4</th>\n",
       "      <td>Female</td>\n",
       "      <td>78.0</td>\n",
       "      <td>0</td>\n",
       "      <td>0</td>\n",
       "      <td>Yes</td>\n",
       "      <td>Govt_job</td>\n",
       "      <td>Urban</td>\n",
       "      <td>58.88</td>\n",
       "      <td>35.8</td>\n",
       "      <td>Unknown</td>\n",
       "      <td>0</td>\n",
       "    </tr>\n",
       "    <tr>\n",
       "      <th>5</th>\n",
       "      <td>Female</td>\n",
       "      <td>79.0</td>\n",
       "      <td>0</td>\n",
       "      <td>0</td>\n",
       "      <td>Yes</td>\n",
       "      <td>Private</td>\n",
       "      <td>Rural</td>\n",
       "      <td>79.53</td>\n",
       "      <td>37.3</td>\n",
       "      <td>never smoked</td>\n",
       "      <td>0</td>\n",
       "    </tr>\n",
       "    <tr>\n",
       "      <th>6</th>\n",
       "      <td>Female</td>\n",
       "      <td>18.0</td>\n",
       "      <td>0</td>\n",
       "      <td>0</td>\n",
       "      <td>No</td>\n",
       "      <td>Private</td>\n",
       "      <td>Urban</td>\n",
       "      <td>70.54</td>\n",
       "      <td>23.5</td>\n",
       "      <td>Unknown</td>\n",
       "      <td>0</td>\n",
       "    </tr>\n",
       "    <tr>\n",
       "      <th>7</th>\n",
       "      <td>Female</td>\n",
       "      <td>55.0</td>\n",
       "      <td>0</td>\n",
       "      <td>0</td>\n",
       "      <td>Yes</td>\n",
       "      <td>Private</td>\n",
       "      <td>Urban</td>\n",
       "      <td>65.22</td>\n",
       "      <td>19.8</td>\n",
       "      <td>never smoked</td>\n",
       "      <td>0</td>\n",
       "    </tr>\n",
       "    <tr>\n",
       "      <th>8</th>\n",
       "      <td>Female</td>\n",
       "      <td>5.0</td>\n",
       "      <td>0</td>\n",
       "      <td>0</td>\n",
       "      <td>No</td>\n",
       "      <td>children</td>\n",
       "      <td>Rural</td>\n",
       "      <td>84.59</td>\n",
       "      <td>17.7</td>\n",
       "      <td>Unknown</td>\n",
       "      <td>0</td>\n",
       "    </tr>\n",
       "    <tr>\n",
       "      <th>9</th>\n",
       "      <td>Male</td>\n",
       "      <td>33.0</td>\n",
       "      <td>0</td>\n",
       "      <td>0</td>\n",
       "      <td>Yes</td>\n",
       "      <td>Private</td>\n",
       "      <td>Urban</td>\n",
       "      <td>85.27</td>\n",
       "      <td>25.8</td>\n",
       "      <td>Unknown</td>\n",
       "      <td>0</td>\n",
       "    </tr>\n",
       "    <tr>\n",
       "      <th>10</th>\n",
       "      <td>Female</td>\n",
       "      <td>68.0</td>\n",
       "      <td>0</td>\n",
       "      <td>0</td>\n",
       "      <td>Yes</td>\n",
       "      <td>Private</td>\n",
       "      <td>Rural</td>\n",
       "      <td>236.04</td>\n",
       "      <td>28.5</td>\n",
       "      <td>never smoked</td>\n",
       "      <td>0</td>\n",
       "    </tr>\n",
       "    <tr>\n",
       "      <th>11</th>\n",
       "      <td>Female</td>\n",
       "      <td>59.0</td>\n",
       "      <td>0</td>\n",
       "      <td>0</td>\n",
       "      <td>Yes</td>\n",
       "      <td>Self-employed</td>\n",
       "      <td>Urban</td>\n",
       "      <td>65.82</td>\n",
       "      <td>29.4</td>\n",
       "      <td>never smoked</td>\n",
       "      <td>0</td>\n",
       "    </tr>\n",
       "    <tr>\n",
       "      <th>12</th>\n",
       "      <td>Female</td>\n",
       "      <td>60.0</td>\n",
       "      <td>1</td>\n",
       "      <td>0</td>\n",
       "      <td>No</td>\n",
       "      <td>Private</td>\n",
       "      <td>Urban</td>\n",
       "      <td>96.00</td>\n",
       "      <td>44.5</td>\n",
       "      <td>smokes</td>\n",
       "      <td>0</td>\n",
       "    </tr>\n",
       "    <tr>\n",
       "      <th>13</th>\n",
       "      <td>Female</td>\n",
       "      <td>42.0</td>\n",
       "      <td>0</td>\n",
       "      <td>0</td>\n",
       "      <td>Yes</td>\n",
       "      <td>Private</td>\n",
       "      <td>Rural</td>\n",
       "      <td>108.96</td>\n",
       "      <td>27.5</td>\n",
       "      <td>never smoked</td>\n",
       "      <td>0</td>\n",
       "    </tr>\n",
       "    <tr>\n",
       "      <th>14</th>\n",
       "      <td>Female</td>\n",
       "      <td>51.0</td>\n",
       "      <td>0</td>\n",
       "      <td>0</td>\n",
       "      <td>Yes</td>\n",
       "      <td>Private</td>\n",
       "      <td>Urban</td>\n",
       "      <td>83.52</td>\n",
       "      <td>34.3</td>\n",
       "      <td>Unknown</td>\n",
       "      <td>0</td>\n",
       "    </tr>\n",
       "  </tbody>\n",
       "</table>\n",
       "</div>"
      ],
      "text/plain": [
       "    gender   age  hypertension  heart_disease ever_married      work_type  \\\n",
       "0   Female  18.0             0              0           No        Private   \n",
       "1     Male  60.0             0              0          Yes        Private   \n",
       "2   Female  21.0             0              0           No        Private   \n",
       "3   Female  22.0             0              0           No        Private   \n",
       "4   Female  78.0             0              0          Yes       Govt_job   \n",
       "5   Female  79.0             0              0          Yes        Private   \n",
       "6   Female  18.0             0              0           No        Private   \n",
       "7   Female  55.0             0              0          Yes        Private   \n",
       "8   Female   5.0             0              0           No       children   \n",
       "9     Male  33.0             0              0          Yes        Private   \n",
       "10  Female  68.0             0              0          Yes        Private   \n",
       "11  Female  59.0             0              0          Yes  Self-employed   \n",
       "12  Female  60.0             1              0           No        Private   \n",
       "13  Female  42.0             0              0          Yes        Private   \n",
       "14  Female  51.0             0              0          Yes        Private   \n",
       "\n",
       "   Residence_type  avg_glucose_level   bmi   smoking_status  stroke  \n",
       "0           Urban             101.95  46.0  formerly smoked       0  \n",
       "1           Urban             129.16  33.6           smokes       0  \n",
       "2           Urban              91.01  28.7     never smoked       0  \n",
       "3           Urban              69.94  22.8          Unknown       0  \n",
       "4           Urban              58.88  35.8          Unknown       0  \n",
       "5           Rural              79.53  37.3     never smoked       0  \n",
       "6           Urban              70.54  23.5          Unknown       0  \n",
       "7           Urban              65.22  19.8     never smoked       0  \n",
       "8           Rural              84.59  17.7          Unknown       0  \n",
       "9           Urban              85.27  25.8          Unknown       0  \n",
       "10          Rural             236.04  28.5     never smoked       0  \n",
       "11          Urban              65.82  29.4     never smoked       0  \n",
       "12          Urban              96.00  44.5           smokes       0  \n",
       "13          Rural             108.96  27.5     never smoked       0  \n",
       "14          Urban              83.52  34.3          Unknown       0  "
      ]
     },
     "execution_count": 44,
     "metadata": {},
     "output_type": "execute_result"
    }
   ],
   "source": [
    "# Let's first see the first 15 entries in our dataset\n",
    "data.head(15)"
   ]
  },
  {
   "cell_type": "code",
   "execution_count": 45,
   "metadata": {},
   "outputs": [
    {
     "name": "stdout",
     "output_type": "stream",
     "text": [
      "Shape: (4500, 11)\n",
      "\n",
      "List of Features: Index(['gender', 'age', 'hypertension', 'heart_disease', 'ever_married',\n",
      "       'work_type', 'Residence_type', 'avg_glucose_level', 'bmi',\n",
      "       'smoking_status', 'stroke'],\n",
      "      dtype='object')\n",
      "\n",
      "Missing Values: \n",
      "gender               0\n",
      "age                  0\n",
      "hypertension         0\n",
      "heart_disease        0\n",
      "ever_married         0\n",
      "work_type            0\n",
      "Residence_type       0\n",
      "avg_glucose_level    0\n",
      "bmi                  0\n",
      "smoking_status       0\n",
      "stroke               0\n",
      "dtype: int64\n"
     ]
    }
   ],
   "source": [
    "# View the size of our training data\n",
    "print(f\"Shape: {data.shape}\\n\")\n",
    "\n",
    "# Look up the list of features that we have\n",
    "print(f\"List of Features: {data.columns}\\n\")\n",
    "\n",
    "# Check for any missing values\n",
    "print(\"Missing Values: \")\n",
    "print(data.isna().sum())"
   ]
  },
  {
   "cell_type": "markdown",
   "metadata": {},
   "source": [
    "From the dataframe and simple analysis shown above, there are several things we can observe:\n",
    "\n",
    "- There are 10 features (since we are excluding stroke) and 4500 samples\n",
    "- The features in our dataset involve both numerical and categorical value\n",
    "- The range of numerical feature in our dataset vary from one another\n",
    "- There are no missing values in our dataset\n",
    "- We are dealing with a binary classification problem, where the output is 0 and 1\n",
    "\n",
    "And one of the most important findings from listing just the 15 values is that we are dealing with imbalanced classification, where the output (whether a person has a stroke or not) is mostly 0."
   ]
  },
  {
   "cell_type": "code",
   "execution_count": 20,
   "metadata": {},
   "outputs": [
    {
     "name": "stdout",
     "output_type": "stream",
     "text": [
      "Number of people that have stroke: 4282\n",
      "Number of people that have stroke: 218\n"
     ]
    }
   ],
   "source": [
    "num_stroke_false = len(data[data['stroke']==0])\n",
    "num_stroke_true = len(data[data['stroke']==1])\n",
    "\n",
    "print(f\"Number of people that have stroke: {num_stroke_false}\")\n",
    "print(f\"Number of people that have stroke: {num_stroke_true}\")"
   ]
  },
  {
   "cell_type": "markdown",
   "metadata": {},
   "source": [
    "Indeed that we are dealing with imbalanced classification. Almost 95% of our sample has a label of 0 which indicates that most of the person in our dataset does not have a stroke."
   ]
  },
  {
   "cell_type": "markdown",
   "metadata": {},
   "source": [
    "**Data Visualisation**\n",
    "\n",
    "In general, we know that as age increases, the chance of a person getting a stroke also increases. But, is it true? And does it apply to this dataset?\n",
    "We can verify this correlation by drawing a plot of the rate of getting a stroke against age."
   ]
  },
  {
   "cell_type": "code",
   "execution_count": 21,
   "metadata": {},
   "outputs": [
    {
     "name": "stderr",
     "output_type": "stream",
     "text": [
      "<ipython-input-21-31aa0118fa74>:9: RuntimeWarning: invalid value encountered in long_scalars\n",
      "  rate.append(data[data['age'] < i]['stroke'].sum() / len(data[data['age'] < i]['stroke']))\n"
     ]
    },
    {
     "data": {
      "image/png": "[encoded data removed]",
      "text/plain": [
       "<Figure size 720x360 with 1 Axes>"
      ]
     },
     "metadata": {
      "needs_background": "light"
     },
     "output_type": "display_data"
    }
   ],
   "source": [
    "fig = plt.figure(figsize=(10, 5))\n",
    "ax0 = fig.add_subplot()\n",
    "\n",
    "data['age'] = data['age'].astype(int)\n",
    "\n",
    "# Calculate the rate of a person getting stroke as a function of age\n",
    "rate = []\n",
    "for i in range(data['age'].min(), data['age'].max()):\n",
    "    rate.append(data[data['age'] < i]['stroke'].sum() / len(data[data['age'] < i]['stroke']))\n",
    "\n",
    "# Draw a lineplote \n",
    "sns.lineplot(data=rate,ax=ax0)\n",
    "\n",
    "# Remove the top, right, and left surrounding line for aesthetic purposes\n",
    "for s in [\"top\",\"right\",\"left\"]:\n",
    "    ax0.spines[s].set_visible(False)\n",
    "\n",
    "# Adjust the tick appearance for aesthetic purposes\n",
    "ax0.tick_params(axis='both', which='major', labelsize=8)\n",
    "ax0.tick_params(axis='both', which='both',length=0)\n",
    "\n",
    "# Add some text on the figure\n",
    "ax0.text(-3,0.055,'Risk Increase by Age',fontsize=18,fontfamily='serif',fontweight='bold')\n",
    "ax0.text(-3,0.047,'As age increase, so too does risk of having a stroke',fontsize=14,fontfamily='serif')\n",
    "\n",
    "plt.show()"
   ]
  },
  {
   "cell_type": "markdown",
   "metadata": {},
   "source": [
    "Yup, as expected, the higher the age, the higher the chance of getting a stroke. "
   ]
  },
  {
   "cell_type": "markdown",
   "metadata": {},
   "source": [
    "## Data Preprocessing"
   ]
  },
  {
   "cell_type": "markdown",
   "metadata": {},
   "source": [
    "Looking at the previous section, there are a few things we need to do before we can start training an ML model, and among them are:\n",
    "- Convert categorical data to numerical data\n",
    "- Standardize the range of our datasets"
   ]
  },
  {
   "cell_type": "code",
   "execution_count": 46,
   "metadata": {},
   "outputs": [
    {
     "name": "stdout",
     "output_type": "stream",
     "text": [
      "gender\n",
      "['Female' 'Male']\n",
      "ever_married\n",
      "['No' 'Yes']\n",
      "work_type\n",
      "['Private' 'Govt_job' 'children' 'Self-employed']\n",
      "Residence_type\n",
      "['Urban' 'Rural']\n",
      "smoking_status\n",
      "['formerly smoked' 'smokes' 'never smoked' 'Unknown']\n"
     ]
    }
   ],
   "source": [
    "# Find categorical features, along with its values; we do this by exploiting the fact that categorical features has a data type of 'object'\n",
    "cat_features = []\n",
    "\n",
    "for col in data.columns:\n",
    "    if data[col].dtype == \"object\":\n",
    "        cat_features.append(col)\n",
    "        print(col)\n",
    "        print(data[col].unique())"
   ]
  },
  {
   "cell_type": "code",
   "execution_count": 47,
   "metadata": {},
   "outputs": [],
   "source": [
    "# Encoding categorical values\n",
    "data['gender'] = data['gender'].replace({'Male':0,'Female':1}).astype(np.uint8)\n",
    "data['ever_married'] = data['ever_married'].replace({'No':0,'Yes':1}).astype(np.uint8)\n",
    "data['work_type'] = data['work_type'].replace({'Private':0,'Self-employed':1,'Govt_job':2,'children':3,'Never_worked':4}).astype(np.uint8)\n",
    "data['Residence_type'] = data['Residence_type'].replace({'Rural':0,'Urban':1}).astype(np.uint8)\n",
    "data['smoking_status'] = data['smoking_status'].replace({'formerly smoked':0,'smokes':1,'never smoked':2,'Unknown':3}).astype(np.uint8)"
   ]
  },
  {
   "cell_type": "code",
   "execution_count": 48,
   "metadata": {},
   "outputs": [
    {
     "data": {
      "text/html": [
       "<div>\n",
       "<style scoped>\n",
       "    .dataframe tbody tr th:only-of-type {\n",
       "        vertical-align: middle;\n",
       "    }\n",
       "\n",
       "    .dataframe tbody tr th {\n",
       "        vertical-align: top;\n",
       "    }\n",
       "\n",
       "    .dataframe thead th {\n",
       "        text-align: right;\n",
       "    }\n",
       "</style>\n",
       "<table border=\"1\" class=\"dataframe\">\n",
       "  <thead>\n",
       "    <tr style=\"text-align: right;\">\n",
       "      <th></th>\n",
       "      <th>gender</th>\n",
       "      <th>age</th>\n",
       "      <th>hypertension</th>\n",
       "      <th>heart_disease</th>\n",
       "      <th>ever_married</th>\n",
       "      <th>work_type</th>\n",
       "      <th>Residence_type</th>\n",
       "      <th>avg_glucose_level</th>\n",
       "      <th>bmi</th>\n",
       "      <th>smoking_status</th>\n",
       "      <th>stroke</th>\n",
       "    </tr>\n",
       "  </thead>\n",
       "  <tbody>\n",
       "    <tr>\n",
       "      <th>0</th>\n",
       "      <td>1</td>\n",
       "      <td>18.0</td>\n",
       "      <td>0</td>\n",
       "      <td>0</td>\n",
       "      <td>0</td>\n",
       "      <td>0</td>\n",
       "      <td>1</td>\n",
       "      <td>101.95</td>\n",
       "      <td>46.0</td>\n",
       "      <td>0</td>\n",
       "      <td>0</td>\n",
       "    </tr>\n",
       "    <tr>\n",
       "      <th>1</th>\n",
       "      <td>0</td>\n",
       "      <td>60.0</td>\n",
       "      <td>0</td>\n",
       "      <td>0</td>\n",
       "      <td>1</td>\n",
       "      <td>0</td>\n",
       "      <td>1</td>\n",
       "      <td>129.16</td>\n",
       "      <td>33.6</td>\n",
       "      <td>1</td>\n",
       "      <td>0</td>\n",
       "    </tr>\n",
       "    <tr>\n",
       "      <th>2</th>\n",
       "      <td>1</td>\n",
       "      <td>21.0</td>\n",
       "      <td>0</td>\n",
       "      <td>0</td>\n",
       "      <td>0</td>\n",
       "      <td>0</td>\n",
       "      <td>1</td>\n",
       "      <td>91.01</td>\n",
       "      <td>28.7</td>\n",
       "      <td>2</td>\n",
       "      <td>0</td>\n",
       "    </tr>\n",
       "    <tr>\n",
       "      <th>3</th>\n",
       "      <td>1</td>\n",
       "      <td>22.0</td>\n",
       "      <td>0</td>\n",
       "      <td>0</td>\n",
       "      <td>0</td>\n",
       "      <td>0</td>\n",
       "      <td>1</td>\n",
       "      <td>69.94</td>\n",
       "      <td>22.8</td>\n",
       "      <td>3</td>\n",
       "      <td>0</td>\n",
       "    </tr>\n",
       "    <tr>\n",
       "      <th>4</th>\n",
       "      <td>1</td>\n",
       "      <td>78.0</td>\n",
       "      <td>0</td>\n",
       "      <td>0</td>\n",
       "      <td>1</td>\n",
       "      <td>2</td>\n",
       "      <td>1</td>\n",
       "      <td>58.88</td>\n",
       "      <td>35.8</td>\n",
       "      <td>3</td>\n",
       "      <td>0</td>\n",
       "    </tr>\n",
       "  </tbody>\n",
       "</table>\n",
       "</div>"
      ],
      "text/plain": [
       "   gender   age  hypertension  heart_disease  ever_married  work_type  \\\n",
       "0       1  18.0             0              0             0          0   \n",
       "1       0  60.0             0              0             1          0   \n",
       "2       1  21.0             0              0             0          0   \n",
       "3       1  22.0             0              0             0          0   \n",
       "4       1  78.0             0              0             1          2   \n",
       "\n",
       "   Residence_type  avg_glucose_level   bmi  smoking_status  stroke  \n",
       "0               1             101.95  46.0               0       0  \n",
       "1               1             129.16  33.6               1       0  \n",
       "2               1              91.01  28.7               2       0  \n",
       "3               1              69.94  22.8               3       0  \n",
       "4               1              58.88  35.8               3       0  "
      ]
     },
     "execution_count": 48,
     "metadata": {},
     "output_type": "execute_result"
    }
   ],
   "source": [
    "# Let's check our dataset to see whether categorical data has been changed to numerical data\n",
    "data.head()"
   ]
  },
  {
   "cell_type": "markdown",
   "metadata": {},
   "source": [
    "Cool! Now we have converted all the categorical features in our dataset into numerical features. A fast way of doing this is by using [OrdinalEncoder](https://scikit-learn.org/stable/modules/generated/sklearn.preprocessing.OrdinalEncoder.html#sklearn.preprocessing.OrdinalEncoder) provided by scikit-learn.\n",
    "\n",
    "Next, let's standardize the numerical feature that has a wide range"
   ]
  },
  {
   "cell_type": "code",
   "execution_count": 25,
   "metadata": {},
   "outputs": [
    {
     "data": {
      "text/html": [
       "<div>\n",
       "<style scoped>\n",
       "    .dataframe tbody tr th:only-of-type {\n",
       "        vertical-align: middle;\n",
       "    }\n",
       "\n",
       "    .dataframe tbody tr th {\n",
       "        vertical-align: top;\n",
       "    }\n",
       "\n",
       "    .dataframe thead th {\n",
       "        text-align: right;\n",
       "    }\n",
       "</style>\n",
       "<table border=\"1\" class=\"dataframe\">\n",
       "  <thead>\n",
       "    <tr style=\"text-align: right;\">\n",
       "      <th></th>\n",
       "      <th>gender</th>\n",
       "      <th>age</th>\n",
       "      <th>hypertension</th>\n",
       "      <th>heart_disease</th>\n",
       "      <th>ever_married</th>\n",
       "      <th>work_type</th>\n",
       "      <th>Residence_type</th>\n",
       "      <th>avg_glucose_level</th>\n",
       "      <th>bmi</th>\n",
       "      <th>smoking_status</th>\n",
       "      <th>stroke</th>\n",
       "    </tr>\n",
       "  </thead>\n",
       "  <tbody>\n",
       "    <tr>\n",
       "      <th>0</th>\n",
       "      <td>1</td>\n",
       "      <td>-1.114729</td>\n",
       "      <td>0</td>\n",
       "      <td>0</td>\n",
       "      <td>0</td>\n",
       "      <td>0</td>\n",
       "      <td>1</td>\n",
       "      <td>-0.090265</td>\n",
       "      <td>2.582654</td>\n",
       "      <td>0</td>\n",
       "      <td>0</td>\n",
       "    </tr>\n",
       "    <tr>\n",
       "      <th>1</th>\n",
       "      <td>0</td>\n",
       "      <td>0.735565</td>\n",
       "      <td>0</td>\n",
       "      <td>0</td>\n",
       "      <td>1</td>\n",
       "      <td>0</td>\n",
       "      <td>1</td>\n",
       "      <td>0.514328</td>\n",
       "      <td>0.756992</td>\n",
       "      <td>1</td>\n",
       "      <td>0</td>\n",
       "    </tr>\n",
       "    <tr>\n",
       "      <th>2</th>\n",
       "      <td>1</td>\n",
       "      <td>-0.982565</td>\n",
       "      <td>0</td>\n",
       "      <td>0</td>\n",
       "      <td>0</td>\n",
       "      <td>0</td>\n",
       "      <td>1</td>\n",
       "      <td>-0.333347</td>\n",
       "      <td>0.035561</td>\n",
       "      <td>2</td>\n",
       "      <td>0</td>\n",
       "    </tr>\n",
       "    <tr>\n",
       "      <th>3</th>\n",
       "      <td>1</td>\n",
       "      <td>-0.938510</td>\n",
       "      <td>0</td>\n",
       "      <td>0</td>\n",
       "      <td>0</td>\n",
       "      <td>0</td>\n",
       "      <td>1</td>\n",
       "      <td>-0.801513</td>\n",
       "      <td>-0.833101</td>\n",
       "      <td>3</td>\n",
       "      <td>0</td>\n",
       "    </tr>\n",
       "    <tr>\n",
       "      <th>4</th>\n",
       "      <td>1</td>\n",
       "      <td>1.528548</td>\n",
       "      <td>0</td>\n",
       "      <td>0</td>\n",
       "      <td>1</td>\n",
       "      <td>2</td>\n",
       "      <td>1</td>\n",
       "      <td>-1.047261</td>\n",
       "      <td>1.080900</td>\n",
       "      <td>3</td>\n",
       "      <td>0</td>\n",
       "    </tr>\n",
       "  </tbody>\n",
       "</table>\n",
       "</div>"
      ],
      "text/plain": [
       "   gender       age  hypertension  heart_disease  ever_married  work_type  \\\n",
       "0       1 -1.114729             0              0             0          0   \n",
       "1       0  0.735565             0              0             1          0   \n",
       "2       1 -0.982565             0              0             0          0   \n",
       "3       1 -0.938510             0              0             0          0   \n",
       "4       1  1.528548             0              0             1          2   \n",
       "\n",
       "   Residence_type  avg_glucose_level       bmi  smoking_status  stroke  \n",
       "0               1          -0.090265  2.582654               0       0  \n",
       "1               1           0.514328  0.756992               1       0  \n",
       "2               1          -0.333347  0.035561               2       0  \n",
       "3               1          -0.801513 -0.833101               3       0  \n",
       "4               1          -1.047261  1.080900               3       0  "
      ]
     },
     "execution_count": 25,
     "metadata": {},
     "output_type": "execute_result"
    }
   ],
   "source": [
    "scaler = StandardScaler()\n",
    "data[['age', 'avg_glucose_level', 'bmi']] = scaler.fit_transform(data[['age', 'avg_glucose_level', 'bmi']])\n",
    "\n",
    "# Verify that our feature has been standardized\n",
    "data.head()"
   ]
  },
  {
   "cell_type": "markdown",
   "metadata": {},
   "source": [
    "Our data is now has been standardized, and all value is in numerical value, which is the basic requirement before we can start wheeling out our ML training operation.\n",
    "\n",
    "And the last step we need to do is to: \n",
    "\n",
    "1. **Separate the features and label**.\n",
    "This is a requirement when training our dataset. It enables the scikit-learn function to differentiate between the input and output.\n",
    "\n",
    "2. **Split our data into training and test sets**. \n",
    "The training set as the name goes by is the dataset on which our models will be trained on. Once the training procedure is finished, we then test our ML model with our newly created test set. This will provide us with **generalisation error**, which is a measure of how accurately an algorithm can predict the outcome based on unseen data (which is what we are trying to do eventually!). Plus, it will also provide us with a tool to compare different models we have trained before finally deciding which model to use for our submission. Bam!"
   ]
  },
  {
   "cell_type": "code",
   "execution_count": 26,
   "metadata": {},
   "outputs": [],
   "source": [
    "# Separate our data into X, which contains all the features in our dataset and y, which contains only the output/label (stroke)\n",
    "X = data.drop(columns=['stroke'])\n",
    "y = data['stroke']"
   ]
  },
  {
   "cell_type": "code",
   "execution_count": 27,
   "metadata": {},
   "outputs": [
    {
     "name": "stdout",
     "output_type": "stream",
     "text": [
      "(4500, 10)\n",
      "(4500,)\n"
     ]
    }
   ],
   "source": [
    "# Verify that we have correctly separate the features and the output by looking at the shape of X and y\n",
    "print(X.shape)\n",
    "print(y.shape)"
   ]
  },
  {
   "cell_type": "code",
   "execution_count": 28,
   "metadata": {},
   "outputs": [],
   "source": [
    "# Split our features and output into training and test set\n",
    "# In this case, because test_size parameter is equal to 0.2, our testing set will have 20% the data while training set will have 80%\n",
    "X_train, X_test, y_train, y_test = train_test_split(X, y, test_size=0.2)\n",
    "\n",
    "# TO-DO: Try changing the test_size and see whether it changes the performance of our model"
   ]
  },
  {
   "cell_type": "code",
   "execution_count": 29,
   "metadata": {},
   "outputs": [
    {
     "name": "stdout",
     "output_type": "stream",
     "text": [
      "Shape of X_train: (3600, 10)\n",
      "Shape of X_test: (900, 10)\n",
      "Shape of y_train: (3600,)\n",
      "Shape of y_test: (900,)\n"
     ]
    }
   ],
   "source": [
    "# Verify that the operation ran as intended by checking the shape of the splitted dataset\n",
    "print(f\"Shape of X_train: {X_train.shape}\")\n",
    "print(f\"Shape of X_test: {X_test.shape}\")\n",
    "print(f\"Shape of y_train: {y_train.shape}\")\n",
    "print(f\"Shape of y_test: {y_test.shape}\")"
   ]
  },
  {
   "cell_type": "markdown",
   "metadata": {},
   "source": [
    "## Model Training"
   ]
  },
  {
   "cell_type": "markdown",
   "metadata": {},
   "source": [
    "This is where the magic begins. As an example, we will be training our dataset by using three different models and choosing the best model for the submission later.\n",
    "The model we will be using are [Logistic Regression](https://scikit-learn.org/stable/modules/generated/sklearn.linear_model.LogisticRegression.html), [Support Vector Machine](https://scikit-learn.org/stable/modules/generated/sklearn.svm.SVC.html), and [Decision Trees](https://scikit-learn.org/stable/modules/generated/sklearn.tree.DecisionTreeClassifier.html)\n",
    "Bear in mind that each of the models has its own hyperparameter that you can tune to get a better performance. Do check the documentation of each model!"
   ]
  },
  {
   "cell_type": "code",
   "execution_count": 30,
   "metadata": {},
   "outputs": [
    {
     "data": {
      "text/plain": [
       "DecisionTreeClassifier()"
      ]
     },
     "execution_count": 30,
     "metadata": {},
     "output_type": "execute_result"
    }
   ],
   "source": [
    "clf_lr = LogisticRegression()\n",
    "clf_lr.fit(X=X_train, y=y_train)\n",
    "\n",
    "clf_svm = SVC()\n",
    "clf_svm.fit(X=X_train, y=y_train)\n",
    "\n",
    "clf_tree = DecisionTreeClassifier()\n",
    "clf_tree.fit(X=X_train, y=y_train)"
   ]
  },
  {
   "cell_type": "markdown",
   "metadata": {},
   "source": [
    "## Model Testing\n",
    "Now that we have trained our machine learning model, we can test it on our test set"
   ]
  },
  {
   "cell_type": "code",
   "execution_count": 31,
   "metadata": {},
   "outputs": [],
   "source": [
    "# use .predict() function for doing the prediction on our test set\n",
    "lr_predicted = clf_lr.predict(X_test)\n",
    "svm_predicted = clf_svm.predict(X_test)\n",
    "tree_predicted = clf_tree.predict(X_test)"
   ]
  },
  {
   "cell_type": "code",
   "execution_count": 32,
   "metadata": {},
   "outputs": [
    {
     "name": "stdout",
     "output_type": "stream",
     "text": [
      "Accuracy (Logistic Regression):  0.9344444444444444\n",
      "Accuracy (SVM):  0.9344444444444444\n",
      "Accuracy (Decision Tree):  0.91\n"
     ]
    }
   ],
   "source": [
    "# we will be using accuracy_score() function as our evaluation metric. .accuracy_score() function simply calculate the number of prediction that is correct and divide it by the total number of predictions.\n",
    "lr_accuracy = accuracy_score(lr_predicted, y_test)\n",
    "svm_accuracy = accuracy_score(svm_predicted, y_test)\n",
    "tree_accuracy = accuracy_score(tree_predicted, y_test)\n",
    "\n",
    "print(\"Accuracy (Logistic Regression): \", lr_accuracy)\n",
    "print(\"Accuracy (SVM): \", svm_accuracy)\n",
    "print(\"Accuracy (Decision Tree): \", tree_accuracy)"
   ]
  },
  {
   "cell_type": "markdown",
   "metadata": {},
   "source": [
    "Neat! We can see that logistic regression and SVM performed equally with each other (with about 95% accuracy), while our decision tree is a bit left behind.\n",
    "\n",
    "But, let's put things back into perspective. Right now, we are doing an imbalanced classification problem, where only 5% of our output has a value of 1. Hence, even if we predict all the output as 0, we can easily achieve 95% of accuracy. So, there is definitely a long way to go in regards to producing a model that is able to predict accurately whether a person has a stroke or not. "
   ]
  },
  {
   "cell_type": "code",
   "execution_count": 33,
   "metadata": {},
   "outputs": [
    {
     "name": "stdout",
     "output_type": "stream",
     "text": [
      "Confusion Matrix (Logistic Regression)\n",
      "<sklearn.metrics._plot.confusion_matrix.ConfusionMatrixDisplay object at 0x16e001be0>\n",
      "\n",
      "Confusion Matrix (SVM)\n",
      "<sklearn.metrics._plot.confusion_matrix.ConfusionMatrixDisplay object at 0x16e10ee20>\n",
      "\n",
      "Confusion Matrix (Decision Tree)\n",
      "<sklearn.metrics._plot.confusion_matrix.ConfusionMatrixDisplay object at 0x16e10ee20>\n"
     ]
    },
    {
     "data": {
      "image/png": "[encoded data removed]",
      "text/plain": [
       "<Figure size 432x288 with 2 Axes>"
      ]
     },
     "metadata": {
      "needs_background": "light"
     },
     "output_type": "display_data"
    },
    {
     "data": {
      "image/png": "[encoded data removed]",
      "text/plain": [
       "<Figure size 432x288 with 2 Axes>"
      ]
     },
     "metadata": {
      "needs_background": "light"
     },
     "output_type": "display_data"
    },
    {
     "data": {
      "image/png": "[encoded data removed]",
      "text/plain": [
       "<Figure size 432x288 with 2 Axes>"
      ]
     },
     "metadata": {
      "needs_background": "light"
     },
     "output_type": "display_data"
    }
   ],
   "source": [
    "# We can do further analysis by plotting a confusion matrix\n",
    "print(\"Confusion Matrix (Logistic Regression)\")\n",
    "print(ConfusionMatrixDisplay.from_predictions(y_true=y_test, y_pred=lr_predicted))\n",
    "\n",
    "print(\"\\nConfusion Matrix (SVM)\")\n",
    "print(ConfusionMatrixDisplay.from_predictions(y_true=y_test, y_pred=svm_predicted))\n",
    "\n",
    "print(\"\\nConfusion Matrix (Decision Tree)\")\n",
    "print(ConfusionMatrixDisplay.from_predictions(y_true=y_test, y_pred=tree_predicted))"
   ]
  },
  {
   "cell_type": "markdown",
   "metadata": {},
   "source": [
    "## Submission \n",
    "Once we are really sure with the performance of our model, we can start deploying it into the real testing set (dataset for submission)"
   ]
  },
  {
   "cell_type": "code",
   "execution_count": 34,
   "metadata": {},
   "outputs": [],
   "source": [
    "# First, let's import our test dataset and save it in a variable called data_test\n",
    "data_test = pd.read_csv(\"./data/test.csv\")          # Change the PATH accordingly "
   ]
  },
  {
   "cell_type": "markdown",
   "metadata": {},
   "source": [
    "Then, we must preprocess the dataset before feeding it into the trained model. The preprocess steps include: \n",
    "1. Convert categorical data into numerical data\n",
    "2. Standardize numerical dataset that has a large range"
   ]
  },
  {
   "cell_type": "code",
   "execution_count": 49,
   "metadata": {},
   "outputs": [],
   "source": [
    "# Encoding categorical values\n",
    "data_test['gender'] = data_test['gender'].replace({'Male':0,'Female':1}).astype(np.uint8)\n",
    "data_test['ever_married'] = data_test['ever_married'].replace({'No':0,'Yes':1}).astype(np.uint8)\n",
    "data_test['work_type'] = data_test['work_type'].replace({'Private':0,'Self-employed':1,'Govt_job':2,'children':3,'Never_worked':4}).astype(np.uint8)\n",
    "data_test['Residence_type'] = data_test['Residence_type'].replace({'Rural':0,'Urban':1}).astype(np.uint8)\n",
    "data_test['smoking_status'] = data_test['smoking_status'].replace({'formerly smoked':0,'smokes':1,'never smoked':2,'Unknown':3}).astype(np.uint8)"
   ]
  },
  {
   "cell_type": "code",
   "execution_count": 50,
   "metadata": {},
   "outputs": [
    {
     "name": "stdout",
     "output_type": "stream",
     "text": [
      "Shape: (481, 10)\n"
     ]
    },
    {
     "data": {
      "text/html": [
       "<div>\n",
       "<style scoped>\n",
       "    .dataframe tbody tr th:only-of-type {\n",
       "        vertical-align: middle;\n",
       "    }\n",
       "\n",
       "    .dataframe tbody tr th {\n",
       "        vertical-align: top;\n",
       "    }\n",
       "\n",
       "    .dataframe thead th {\n",
       "        text-align: right;\n",
       "    }\n",
       "</style>\n",
       "<table border=\"1\" class=\"dataframe\">\n",
       "  <thead>\n",
       "    <tr style=\"text-align: right;\">\n",
       "      <th></th>\n",
       "      <th>gender</th>\n",
       "      <th>age</th>\n",
       "      <th>hypertension</th>\n",
       "      <th>heart_disease</th>\n",
       "      <th>ever_married</th>\n",
       "      <th>work_type</th>\n",
       "      <th>Residence_type</th>\n",
       "      <th>avg_glucose_level</th>\n",
       "      <th>bmi</th>\n",
       "      <th>smoking_status</th>\n",
       "    </tr>\n",
       "  </thead>\n",
       "  <tbody>\n",
       "    <tr>\n",
       "      <th>0</th>\n",
       "      <td>1</td>\n",
       "      <td>-0.997061</td>\n",
       "      <td>0</td>\n",
       "      <td>0</td>\n",
       "      <td>0</td>\n",
       "      <td>0</td>\n",
       "      <td>1</td>\n",
       "      <td>0.768523</td>\n",
       "      <td>-0.868655</td>\n",
       "      <td>1</td>\n",
       "    </tr>\n",
       "    <tr>\n",
       "      <th>1</th>\n",
       "      <td>0</td>\n",
       "      <td>1.406041</td>\n",
       "      <td>0</td>\n",
       "      <td>0</td>\n",
       "      <td>1</td>\n",
       "      <td>0</td>\n",
       "      <td>0</td>\n",
       "      <td>2.830568</td>\n",
       "      <td>0.803643</td>\n",
       "      <td>0</td>\n",
       "    </tr>\n",
       "    <tr>\n",
       "      <th>2</th>\n",
       "      <td>0</td>\n",
       "      <td>-1.264072</td>\n",
       "      <td>0</td>\n",
       "      <td>0</td>\n",
       "      <td>0</td>\n",
       "      <td>0</td>\n",
       "      <td>0</td>\n",
       "      <td>-0.326433</td>\n",
       "      <td>-0.350686</td>\n",
       "      <td>2</td>\n",
       "    </tr>\n",
       "    <tr>\n",
       "      <th>3</th>\n",
       "      <td>1</td>\n",
       "      <td>-1.041563</td>\n",
       "      <td>0</td>\n",
       "      <td>0</td>\n",
       "      <td>0</td>\n",
       "      <td>0</td>\n",
       "      <td>0</td>\n",
       "      <td>-0.743527</td>\n",
       "      <td>-0.720664</td>\n",
       "      <td>2</td>\n",
       "    </tr>\n",
       "    <tr>\n",
       "      <th>4</th>\n",
       "      <td>1</td>\n",
       "      <td>-0.507540</td>\n",
       "      <td>0</td>\n",
       "      <td>0</td>\n",
       "      <td>1</td>\n",
       "      <td>0</td>\n",
       "      <td>0</td>\n",
       "      <td>-0.463494</td>\n",
       "      <td>-0.380285</td>\n",
       "      <td>2</td>\n",
       "    </tr>\n",
       "  </tbody>\n",
       "</table>\n",
       "</div>"
      ],
      "text/plain": [
       "   gender       age  hypertension  heart_disease  ever_married  work_type  \\\n",
       "0       1 -0.997061             0              0             0          0   \n",
       "1       0  1.406041             0              0             1          0   \n",
       "2       0 -1.264072             0              0             0          0   \n",
       "3       1 -1.041563             0              0             0          0   \n",
       "4       1 -0.507540             0              0             1          0   \n",
       "\n",
       "   Residence_type  avg_glucose_level       bmi  smoking_status  \n",
       "0               1           0.768523 -0.868655               1  \n",
       "1               0           2.830568  0.803643               0  \n",
       "2               0          -0.326433 -0.350686               2  \n",
       "3               0          -0.743527 -0.720664               2  \n",
       "4               0          -0.463494 -0.380285               2  "
      ]
     },
     "execution_count": 50,
     "metadata": {},
     "output_type": "execute_result"
    }
   ],
   "source": [
    "# Standardize numerical feature that has a large range\n",
    "scaler = StandardScaler()\n",
    "data_test[['age', 'avg_glucose_level', 'bmi']] = scaler.fit_transform(data_test[['age', 'avg_glucose_level', 'bmi']])\n",
    "\n",
    "# Check the shape of our submission dataset\n",
    "print(f\"Shape: {data_test.shape}\")\n",
    "\n",
    "# Verify that our feature has been standardized\n",
    "data_test.head()"
   ]
  },
  {
   "cell_type": "markdown",
   "metadata": {},
   "source": [
    "Once we have done all the preprocessing stages, we can proceed to do prediction on the submission dataset."
   ]
  },
  {
   "cell_type": "code",
   "execution_count": 51,
   "metadata": {},
   "outputs": [],
   "source": [
    "# We will be choosing Logistic Regression model as it shows the best performance compared to SVM and decision trees\n",
    "predicted = clf_lr.predict(data_test)"
   ]
  },
  {
   "cell_type": "code",
   "execution_count": 52,
   "metadata": {},
   "outputs": [
    {
     "data": {
      "text/plain": [
       "(481,)"
      ]
     },
     "execution_count": 52,
     "metadata": {},
     "output_type": "execute_result"
    }
   ],
   "source": [
    "predicted.shape"
   ]
  },
  {
   "cell_type": "markdown",
   "metadata": {},
   "source": [
    "It seems that the output shape is what it should have, which is 481 entries. Now, we are ready for submitting our prediction. "
   ]
  },
  {
   "cell_type": "markdown",
   "metadata": {},
   "source": [
    "**Doxa Submission**"
   ]
  },
  {
   "cell_type": "code",
   "execution_count": 39,
   "metadata": {},
   "outputs": [],
   "source": [
    "# Code to be inserted here"
   ]
  },
  {
   "cell_type": "markdown",
   "metadata": {},
   "source": [
    "Yayy! You have submitted (probably) your first submission on DOXA!"
   ]
  },
  {
   "cell_type": "markdown",
   "metadata": {},
   "source": [
    "## Possible Improvements"
   ]
  },
  {
   "cell_type": "markdown",
   "metadata": {},
   "source": [
    "As we are already aware, our model is not that good at predicting stroke since most (if not all) of its output is 0. There are a few ways in which we can improve upon our model:\n",
    "\n",
    "**1. Data Visualisation**\n",
    "- Visualise other features as well (on top of the age of the person) to see if there is any correlation with a person getting a stroke. \n",
    "\n",
    "**2. Data Preprocessing**\n",
    "- Implement [PCA algorithm](https://scikit-learn.org/stable/modules/generated/sklearn.decomposition.PCA.html), which will reduce the input features to the one that only matters for us. We choose 'n' input features that have the highest orthogonality. 'n' is a hyperparameter, so tuning needs to be done to get the best performance.\n",
    "\n",
    "**3. Dealing with Imbalanced Dataset**\n",
    "- The challenge of working with imbalanced datasets is that most ML models will ignore the minority class (as you can see if you run through a decision matrix on SVM and Logistic Regression earlier).\n",
    "- One approach to address this is to oversample the minority class. The simplest approach involves duplicating examples in the minority class, although these will not create any meaningful information for the model. Instead, new examples can be synthesized from the existing examples. This type of data augmentation is referred to as SMOTE, or [Synthetic Minority Oversampling Technique](https://machinelearningmastery.com/smote-oversampling-for-imbalanced-classification/).\n",
    "\n",
    "**4. Model Selection**\n",
    "- In our example, we have looked at implementing [logistic regression](https://scikit-learn.org/stable/modules/generated/sklearn.linear_model.LogisticRegression.html#sklearn.linear_model.LogisticRegression), [support vector machine](https://scikit-learn.org/stable/modules/generated/sklearn.svm.SVC.html), and [decision trees](https://scikit-learn.org/stable/modules/generated/sklearn.tree.DecisionTreeClassifier.html). Each of these models has its hyperparameter that you can tweak which may or may not improve your model performance. The link will bring you to the documentation page of scikit learn where you can discover the hyperparameter of the model that you can tune\n",
    "- On top of that, there are many more ML models that you can try to implement and see whether it improves accuracy or not. If you go to the earlier section of the notebook where we import relevant libraries, there are a lot of ML models that have been imported through sklearn that I did not use. Try to implement some of them and see whether it improves the accuracy or not.\n",
    "\n",
    "And perhaps, many more..."
   ]
  }
 ],
 "metadata": {
  "kernelspec": {
   "display_name": "Python 3.9.10 ('ClimateHack')",
   "language": "python",
   "name": "python3"
  },
  "language_info": {
   "codemirror_mode": {
    "name": "ipython",
    "version": 3
   },
   "file_extension": ".py",
   "mimetype": "text/x-python",
   "name": "python",
   "nbconvert_exporter": "python",
   "pygments_lexer": "ipython3",
   "version": "3.9.10"
  },
  "orig_nbformat": 4,
  "vscode": {
   "interpreter": {
    "hash": "11841742d11f96be4de93e6e6c2ae1e3a22839abf86213b3c23c4bf0c62307b4"
   }
  }
 },
 "nbformat": 4,
 "nbformat_minor": 2
}
